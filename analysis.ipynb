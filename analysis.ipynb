{
 "cells": [
  {
   "cell_type": "code",
   "execution_count": 21,
   "metadata": {},
   "outputs": [
    {
     "name": "stdout",
     "output_type": "stream",
     "text": [
      "Number of records in df: 7744\n"
     ]
    }
   ],
   "source": [
    "import sqlite3\n",
    "import pandas as pd\n",
    "\n",
    "# Connect to the database\n",
    "conn = sqlite3.connect('test.db')\n",
    "\n",
    "# Query all properties from the database\n",
    "query = \"SELECT * FROM properties\"\n",
    "\n",
    "# Load the data into a DataFrame\n",
    "df = pd.read_sql_query(query, conn)\n",
    "\n",
    "# Close the connection\n",
    "conn.close()\n",
    "print(f\"Number of records in df: {df.shape[0]}\")\n"
   ]
  },
  {
   "cell_type": "code",
   "execution_count": 22,
   "metadata": {},
   "outputs": [],
   "source": [
    "# Convert lot_area from sqft to acres where lot_area_unit is 'sqft'\n",
    "df.loc[df['lot_area_unit'] == 'sqft', 'lot_area_value'] = df.loc[df['lot_area_unit'] == 'sqft', 'lot_area_value'] / 43560\n",
    "df.loc[df['lot_area_unit'] == 'sqft', 'lot_area_unit'] = 'acres'\n"
   ]
  },
  {
   "cell_type": "code",
   "execution_count": 23,
   "metadata": {},
   "outputs": [
    {
     "name": "stdout",
     "output_type": "stream",
     "text": [
      "id: 1\n",
      "zpid: 155577068\n",
      "address: 2928 Meadow Ave, Fort Myers, FL 33901\n",
      "unit: None\n",
      "latitude: 26.624258\n",
      "longitude: -81.86533\n",
      "price: 48000\n",
      "price_change: nan\n",
      "zestimate: nan\n",
      "img_src: https://photos.zillowstatic.com/fp/1a7c2fc8ec02c4c638286348faba4e2a-p_e.jpg\n",
      "detail_url: https://www.zillow.com/homedetails/2928-Meadow-Ave-Fort-Myers-FL-33901/155577068_zpid/\n",
      "bedrooms: nan\n",
      "bathrooms: nan\n",
      "living_area: nan\n",
      "lot_area_value: 0.196\n",
      "lot_area_unit: acres\n",
      "listing_status: RECENTLY_SOLD\n",
      "property_type: LOT\n",
      "contingent_listing_type: None\n",
      "rent_zestimate: 1149.0\n",
      "days_on_zillow: 19\n",
      "date_sold: 2024-08-15\n",
      "country: USA\n",
      "currency: USD\n",
      "has_image: 1.0\n",
      "county_name: None\n",
      "state_id: FL\n",
      "county_fips: None\n",
      "zip_code: 33901\n"
     ]
    }
   ],
   "source": [
    "# Find zpid 155577068 and print all its values with the key next to it\n",
    "zpid_155577068 = df[df['zpid'] == 155577068]\n",
    "for index, row in zpid_155577068.iterrows():\n",
    "    for key, value in row.items():\n",
    "        print(f\"{key}: {value}\")\n"
   ]
  },
  {
   "cell_type": "code",
   "execution_count": 24,
   "metadata": {},
   "outputs": [],
   "source": [
    "from datetime import datetime\n",
    "\n",
    "# Calculate the number of days since the property was sold\n",
    "df['days_since_sold'] = (datetime.now() - pd.to_datetime(df['date_sold'])).dt.days\n",
    "\n",
    "# Group by zip code and calculate the required metrics\n",
    "zip_code_stats = df.groupby('zip_code').agg(\n",
    "    properties_for_sale=('listing_status', lambda x: (x == 'FOR_SALE').sum()),\n",
    "    properties_sold_90_days=('listing_status', lambda x: ((x == 'RECENTLY_SOLD') & (df.loc[x.index, 'days_since_sold'] <= 90)).sum()),\n",
    "    properties_sold_30_days=('listing_status', lambda x: ((x == 'RECENTLY_SOLD') & (df.loc[x.index, 'days_since_sold'] <= 30)).sum()),\n",
    "    average_price=('price', 'mean'),\n",
    "    median_price=('price', 'median'),\n",
    "    price_std=('price', 'std'),\n",
    "    average_acreage=('lot_area_value', 'mean'),\n",
    "    median_acreage=('lot_area_value', 'median')\n",
    ").reset_index()\n",
    "\n",
    "# Calculate absorption rate\n",
    "zip_code_stats['absorption'] = zip_code_stats['properties_sold_30_days'] / zip_code_stats['properties_for_sale']\n",
    "\n",
    "# Output the results to a CSV file\n",
    "zip_code_stats.to_csv('zip_code_stats.csv', index=False)\n"
   ]
  }
 ],
 "metadata": {
  "kernelspec": {
   "display_name": "env",
   "language": "python",
   "name": "python3"
  },
  "language_info": {
   "codemirror_mode": {
    "name": "ipython",
    "version": 3
   },
   "file_extension": ".py",
   "mimetype": "text/x-python",
   "name": "python",
   "nbconvert_exporter": "python",
   "pygments_lexer": "ipython3",
   "version": "3.11.9"
  }
 },
 "nbformat": 4,
 "nbformat_minor": 2
}

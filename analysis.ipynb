{
 "cells": [
  {
   "cell_type": "code",
   "execution_count": 48,
   "metadata": {},
   "outputs": [
    {
     "name": "stdout",
     "output_type": "stream",
     "text": [
      "Number of records in df: 13898\n"
     ]
    }
   ],
   "source": [
    "import pandas as pd\n",
    "from sqlalchemy import create_engine, text\n",
    "\n",
    "# Use the DATABASE_URL from db.py\n",
    "DATABASE_URL = \"postgresql://work@localhost/properties\"\n",
    "\n",
    "# Create the engine\n",
    "engine = create_engine(DATABASE_URL)\n",
    "\n",
    "# Query all properties from the database\n",
    "query = \"SELECT * FROM properties\"\n",
    "\n",
    "# Load the data into a DataFrame\n",
    "with engine.connect() as conn:\n",
    "    df = pd.read_sql_query(text(query), conn)\n",
    "\n",
    "print(f\"Number of records in df: {df.shape[0]}\")"
   ]
  },
  {
   "cell_type": "code",
   "execution_count": 49,
   "metadata": {},
   "outputs": [],
   "source": [
    "# Convert lot_area from sqft to acres where lot_area_unit is 'sqft'\n",
    "df.loc[df['lot_area_unit'] == 'sqft', 'lot_area_value'] = df.loc[df['lot_area_unit'] == 'sqft', 'lot_area_value'] / 43560\n",
    "df.loc[df['lot_area_unit'] == 'sqft', 'lot_area_unit'] = 'acres'\n"
   ]
  },
  {
   "cell_type": "code",
   "execution_count": 50,
   "metadata": {},
   "outputs": [],
   "source": [
    "# Export all properties to a CSV file\n",
    "df.to_csv('/Users/work/Desktop/all_properties.csv', index=False)\n"
   ]
  },
  {
   "cell_type": "code",
   "execution_count": 51,
   "metadata": {},
   "outputs": [],
   "source": [
    "from datetime import datetime\n",
    "\n",
    "# Calculate the number of days since the property was sold\n",
    "df['days_since_sold'] = (datetime.now() - pd.to_datetime(df['date_sold'])).dt.days\n",
    "\n",
    "# Group by zip code and calculate the required metrics\n",
    "zip_code_stats = df.groupby('zip_code').agg(\n",
    "    properties_for_sale=('listing_status', lambda x: (x == 'FOR_SALE').sum()),\n",
    "    properties_sold_90_days=('listing_status', lambda x: ((x == 'RECENTLY_SOLD') & (df.loc[x.index, 'days_since_sold'] <= 90)).sum()),\n",
    "    properties_sold_30_days=('listing_status', lambda x: ((x == 'RECENTLY_SOLD') & (df.loc[x.index, 'days_since_sold'] <= 30)).sum()),\n",
    "    average_price=('price', 'mean'),\n",
    "    median_price=('price', 'median'),\n",
    "    price_std=('price', 'std'),\n",
    "    average_acreage=('lot_area_value', 'mean'),\n",
    "    median_acreage=('lot_area_value', 'median')\n",
    ").reset_index()\n",
    "\n",
    "# Calculate absorption rate\n",
    "zip_code_stats['absorption'] = zip_code_stats['properties_sold_30_days'] / zip_code_stats['properties_for_sale']\n",
    "\n",
    "# Output the results to a CSV file\n",
    "zip_code_stats.to_csv('/Users/work/Desktop/zip_code_stats.csv', index=False)\n"
   ]
  }
 ],
 "metadata": {
  "kernelspec": {
   "display_name": "env",
   "language": "python",
   "name": "python3"
  },
  "language_info": {
   "codemirror_mode": {
    "name": "ipython",
    "version": 3
   },
   "file_extension": ".py",
   "mimetype": "text/x-python",
   "name": "python",
   "nbconvert_exporter": "python",
   "pygments_lexer": "ipython3",
   "version": "3.11.9"
  }
 },
 "nbformat": 4,
 "nbformat_minor": 2
}
